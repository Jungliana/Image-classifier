{
 "cells": [
  {
   "cell_type": "markdown",
   "metadata": {},
   "source": [
    "#### Image classifier\n",
    "Simple convolutional neural network for classifying images.\n",
    "\n",
    "\n",
    "Author: Aleksandra Piekarzewicz"
   ]
  },
  {
   "cell_type": "code",
   "execution_count": 1,
   "metadata": {},
   "outputs": [],
   "source": [
    "import matplotlib.pyplot as plt\n",
    "import torch\n",
    "import torch.nn as nn\n",
    "import torchvision.utils\n",
    "import torchvision.transforms as transforms\n",
    "import numpy as np\n",
    "import torch.nn.functional as F\n",
    "import torch.optim as optim\n",
    "from torchvision.datasets import ImageFolder"
   ]
  },
  {
   "cell_type": "code",
   "execution_count": 2,
   "metadata": {},
   "outputs": [],
   "source": [
    "def imshow(img):\n",
    "    img = img / 2 + 0.5\n",
    "    npimg = img.numpy()\n",
    "    plt.imshow(np.transpose(npimg, (1, 2, 0)))\n",
    "    plt.show()"
   ]
  },
  {
   "cell_type": "code",
   "execution_count": 3,
   "metadata": {},
   "outputs": [],
   "source": [
    "# setting seeds\n",
    "np.random.seed(300)\n",
    "torch.manual_seed(300)\n",
    "torch.use_deterministic_algorithms(True)"
   ]
  },
  {
   "cell_type": "code",
   "execution_count": 4,
   "metadata": {},
   "outputs": [],
   "source": [
    "transform =  transforms.Compose([\n",
    "            transforms.RandomHorizontalFlip(0.4),\n",
    "            transforms.ToTensor(),\n",
    "            transforms.Normalize(mean=(0.5,0.5,0.5), std=(0.5,0.5,0.5))\n",
    "            ])\n",
    "\n",
    "final_transform =  transforms.Compose([\n",
    "            transforms.ToTensor(),\n",
    "            transforms.Normalize(mean=(0.5,0.5,0.5), std=(0.5,0.5,0.5))\n",
    "            ])"
   ]
  },
  {
   "cell_type": "code",
   "execution_count": 5,
   "metadata": {},
   "outputs": [],
   "source": [
    "all_data = ImageFolder('data/train/', transform=transform)\n",
    "train_data, test_data = torch.utils.data.random_split(all_data, (round(0.8 * len(all_data.imgs)), round(0.2 * len(all_data.imgs))))\n",
    "train_loader = torch.utils.data.DataLoader(train_data, batch_size=128, shuffle=True, num_workers=8)\n",
    "test_loader = torch.utils.data.DataLoader(test_data, batch_size=128, shuffle=False, num_workers=8)\n",
    "\n",
    "final_data = ImageFolder('data/test_all/', transform=final_transform)\n",
    "final_test_loader = torch.utils.data.DataLoader(final_data, batch_size=128, shuffle=False, num_workers=8)"
   ]
  },
  {
   "cell_type": "code",
   "execution_count": 6,
   "metadata": {},
   "outputs": [],
   "source": [
    "class Net(nn.Module):\n",
    "    def __init__(self):\n",
    "        super().__init__()\n",
    "        self.conv1 = nn.Conv2d(in_channels=3, out_channels=40, kernel_size=5, stride=1, padding=1)\n",
    "        self.pool1 = nn.MaxPool2d(kernel_size=2, stride=2)\n",
    "        self.conv2 = nn.Conv2d(40, 60, 5)\n",
    "        self.pool2 = nn.MaxPool2d(3)\n",
    "        self.fc1 = nn.Linear(60 * 9 * 9, 500)\n",
    "        self.bn1 = nn.BatchNorm1d(500)\n",
    "        self.d1 = nn.Dropout(0.5)\n",
    "        self.fc2 = nn.Linear(500, 200)\n",
    "        self.bn2 = nn.BatchNorm1d(200)\n",
    "        self.d2 = nn.Dropout(0.4)\n",
    "        self.fc3 = nn.Linear(200, 50)\n",
    "\n",
    "    def forward(self, x):\n",
    "        x = self.pool1(F.relu(self.conv1(x)))\n",
    "        x = self.pool2(F.relu(self.conv2(x)))\n",
    "        x = torch.flatten(x, 1)\n",
    "        x = self.d1(F.relu(self.bn1(self.fc1(x))))\n",
    "        x = self.d2(F.relu(self.bn2(self.fc2(x))))\n",
    "        x = self.fc3(x)\n",
    "        return x\n",
    "\n",
    "\n",
    "net = Net()"
   ]
  },
  {
   "cell_type": "code",
   "execution_count": 7,
   "metadata": {},
   "outputs": [],
   "source": [
    "lr = 0.001\n",
    "criterion = nn.CrossEntropyLoss()\n",
    "optimizer = optim.Adam(net.parameters(), lr=lr)\n",
    "epochs = 15"
   ]
  },
  {
   "cell_type": "code",
   "execution_count": 8,
   "metadata": {},
   "outputs": [
    {
     "name": "stdout",
     "output_type": "stream",
     "text": [
      "[1/15] loss: 0.818\n",
      "[2/15] loss: 0.678\n",
      "[3/15] loss: 0.631\n",
      "[4/15] loss: 0.596\n",
      "[5/15] loss: 0.573\n",
      "[6/15] loss: 0.552\n",
      "[7/15] loss: 0.535\n",
      "[8/15] loss: 0.518\n",
      "[9/15] loss: 0.502\n",
      "[10/15] loss: 0.487\n",
      "[11/15] loss: 0.475\n",
      "[12/15] loss: 0.459\n",
      "[13/15] loss: 0.448\n",
      "[14/15] loss: 0.436\n",
      "[15/15] loss: 0.425\n",
      "Finished Training\n"
     ]
    }
   ],
   "source": [
    "net.train()\n",
    "for epoch in range(epochs):\n",
    "    lr -= 0.00002\n",
    "\n",
    "    running_loss = 0.0\n",
    "    for i, data in enumerate(train_loader, 0):\n",
    "        inputs, labels = data\n",
    "        #inputs, labels = inputs.to(device), labels.to(device)\n",
    "\n",
    "        optimizer.zero_grad()\n",
    "        outputs = net(inputs)\n",
    "        loss = criterion(outputs, labels)\n",
    "        loss.backward()\n",
    "        optimizer.step()\n",
    "\n",
    "        # print statistics\n",
    "        running_loss += loss.item()\n",
    "\n",
    "    print('[%d/%d] loss: %.3f' %\n",
    "          (epoch+1,  epochs, running_loss / 2000))\n",
    "    running_loss = 0.0\n",
    "\n",
    "print('Finished Training')"
   ]
  },
  {
   "cell_type": "code",
   "execution_count": 9,
   "metadata": {},
   "outputs": [
    {
     "name": "stdout",
     "output_type": "stream",
     "text": [
      "Accuracy of the network on the test images: 50 %\n"
     ]
    }
   ],
   "source": [
    "net.eval()\n",
    "correct = 0\n",
    "total = 0\n",
    "with torch.no_grad():\n",
    "    for data in test_loader:\n",
    "        images, labels = data\n",
    "        #images = images.to(device)\n",
    "        outputs = net(images).cpu()\n",
    "        _, predicted = torch.max(outputs.data, 1)\n",
    "        total += labels.size(0)\n",
    "        correct += (predicted == labels).sum().item()\n",
    "\n",
    "print('Accuracy of the network on the test images: %d %%' % (\n",
    "    100 * correct / total))"
   ]
  },
  {
   "cell_type": "code",
   "execution_count": 10,
   "metadata": {},
   "outputs": [
    {
     "name": "stdout",
     "output_type": "stream",
     "text": [
      "Accuracy for class acoustic is: 28.7 %\n",
      "Accuracy for class antenna is: 48.6 %\n",
      "Accuracy for class bacteria is: 48.0 %\n",
      "Accuracy for class battery is: 50.6 %\n",
      "Accuracy for class bean  is: 51.7 %\n",
      "Accuracy for class beetle is: 63.6 %\n",
      "Accuracy for class bicycle is: 63.7 %\n",
      "Accuracy for class birch is: 40.9 %\n",
      "Accuracy for class bird  is: 22.4 %\n",
      "Accuracy for class bomb  is: 56.4 %\n",
      "Accuracy for class bread is: 46.3 %\n",
      "Accuracy for class bridge is: 64.7 %\n",
      "Accuracy for class camera is: 63.8 %\n",
      "Accuracy for class carbon is: 24.5 %\n",
      "Accuracy for class cat   is: 43.7 %\n",
      "Accuracy for class corn  is: 40.8 %\n",
      "Accuracy for class crab  is: 22.4 %\n",
      "Accuracy for class crocodilian is: 48.5 %\n",
      "Accuracy for class echinoderm is: 40.1 %\n",
      "Accuracy for class egg   is: 37.3 %\n",
      "Accuracy for class elephant is: 66.2 %\n",
      "Accuracy for class fish  is: 42.7 %\n",
      "Accuracy for class flower is: 87.0 %\n",
      "Accuracy for class frog  is: 39.6 %\n",
      "Accuracy for class fungus is: 65.0 %\n",
      "Accuracy for class gauge is: 53.0 %\n",
      "Accuracy for class hammer is: 74.4 %\n",
      "Accuracy for class icecream is: 35.9 %\n",
      "Accuracy for class kangaroo is: 51.2 %\n",
      "Accuracy for class memorial is: 72.5 %\n",
      "Accuracy for class monkey is: 47.3 %\n",
      "Accuracy for class motor is: 51.3 %\n",
      "Accuracy for class nest  is: 39.1 %\n",
      "Accuracy for class palm  is: 59.5 %\n",
      "Accuracy for class pizza is: 77.4 %\n",
      "Accuracy for class pot   is: 34.5 %\n",
      "Accuracy for class printer is: 58.1 %\n",
      "Accuracy for class saw   is: 63.6 %\n",
      "Accuracy for class snake is: 22.2 %\n",
      "Accuracy for class spice is: 54.5 %\n",
      "Accuracy for class spider is: 66.7 %\n",
      "Accuracy for class spoon is: 62.7 %\n",
      "Accuracy for class squash is: 38.6 %\n",
      "Accuracy for class swine is: 61.1 %\n",
      "Accuracy for class tea   is: 42.6 %\n",
      "Accuracy for class tomato is: 58.2 %\n",
      "Accuracy for class towel is: 34.2 %\n",
      "Accuracy for class truck is: 67.9 %\n",
      "Accuracy for class turtle is: 64.3 %\n",
      "Accuracy for class worm  is: 20.0 %\n"
     ]
    }
   ],
   "source": [
    "correct_pred = {classname: 0 for classname in all_data.classes}\n",
    "total_pred = {classname: 0 for classname in all_data.classes}\n",
    "\n",
    "# again no gradients needed\n",
    "with torch.no_grad():\n",
    "    for data in test_loader:\n",
    "        images, labels = data    \n",
    "        #images = images.to(device)\n",
    "        outputs = net(images).cpu()   \n",
    "        _, predictions = torch.max(outputs, 1)\n",
    "\n",
    "        for label, prediction in zip(labels, predictions):\n",
    "            if label == prediction:\n",
    "                correct_pred[all_data.classes[label]] += 1\n",
    "            total_pred[all_data.classes[label]] += 1\n",
    "\n",
    "\n",
    "for classname, correct_count in correct_pred.items():\n",
    "    accuracy = 100 * float(correct_count) / total_pred[classname]\n",
    "    print(\"Accuracy for class {:5s} is: {:.1f} %\".format(classname, \n",
    "                                                   accuracy))"
   ]
  },
  {
   "cell_type": "code",
   "execution_count": 11,
   "metadata": {},
   "outputs": [
    {
     "data": {
      "image/png": "[encoded data removed]",
      "text/plain": [
       "<Figure size 432x288 with 1 Axes>"
      ]
     },
     "metadata": {
      "needs_background": "light"
     },
     "output_type": "display_data"
    },
    {
     "name": "stdout",
     "output_type": "stream",
     "text": [
      "GroundTruth:  spice elephant bicycle   egg spider camera snake   saw bacteria kangaroo\n"
     ]
    }
   ],
   "source": [
    "dataiter = iter(test_loader)\n",
    "images, labels = dataiter.next()\n",
    "images = images[:10]\n",
    "\n",
    "# print images\n",
    "imshow(torchvision.utils.make_grid(images))\n",
    "print('GroundTruth: ', ' '.join('%5s' % all_data.classes[labels[j]] for j in range(10)))\n",
    "outputs = net(images)"
   ]
  },
  {
   "cell_type": "code",
   "execution_count": 12,
   "metadata": {},
   "outputs": [
    {
     "name": "stdout",
     "output_type": "stream",
     "text": [
      "Predicted:  spice elephant bicycle   egg spider camera carbon   saw hammer swine\n"
     ]
    }
   ],
   "source": [
    "_, predicted = torch.max(outputs, 1)\n",
    "\n",
    "print('Predicted: ', ' '.join('%5s' % all_data.classes[predicted[j]]\n",
    "                              for j in range(10)))"
   ]
  },
  {
   "cell_type": "code",
   "execution_count": 13,
   "metadata": {},
   "outputs": [],
   "source": [
    "state_dict = net.state_dict()\n",
    "torch.save(state_dict, \"model.tar\")"
   ]
  },
  {
   "cell_type": "code",
   "execution_count": 14,
   "metadata": {},
   "outputs": [],
   "source": [
    "names = []\n",
    "for sample in final_data.samples:\n",
    "    names.append(sample[0].split('\\\\')[-1])"
   ]
  },
  {
   "cell_type": "code",
   "execution_count": 15,
   "metadata": {},
   "outputs": [],
   "source": [
    "predictions = []\n",
    "\n",
    "for data in final_test_loader:\n",
    "    images, labels = data\n",
    "    #images = images.to(device)\n",
    "    outputs = net(images)\n",
    "    _, predicted = torch.max(outputs.data, 1)\n",
    "    predicted = predicted.tolist()\n",
    "    predictions += predicted"
   ]
  },
  {
   "cell_type": "code",
   "execution_count": null,
   "metadata": {},
   "outputs": [],
   "source": [
    "import pandas as pd\n",
    "all_preds = pd.DataFrame(data = {'col1': names, 'col2': predictions})\n",
    "all_preds.to_csv(\"results.csv\", header=None, index=False)"
   ]
  }
 ],
 "metadata": {
  "interpreter": {
   "hash": "bfd562c7bc66dfe1ea85e22e11550e6a492f8a869e34bf42c217f167996a9a3b"
  },
  "kernelspec": {
   "display_name": "Python 3.8.6 64-bit",
   "language": "python",
   "name": "python3"
  },
  "language_info": {
   "codemirror_mode": {
    "name": "ipython",
    "version": 3
   },
   "file_extension": ".py",
   "mimetype": "text/x-python",
   "name": "python",
   "nbconvert_exporter": "python",
   "pygments_lexer": "ipython3",
   "version": "3.8.6"
  },
  "orig_nbformat": 4
 },
 "nbformat": 4,
 "nbformat_minor": 2
}
